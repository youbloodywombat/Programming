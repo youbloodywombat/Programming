{
 "cells": [
  {
   "cell_type": "code",
   "execution_count": null,
   "metadata": {
    "collapsed": true
   },
   "outputs": [],
   "source": [
    "import urllib2\n",
    "from bs4 import BeautifulSoup\n"
   ]
  },
  {
   "cell_type": "code",
   "execution_count": null,
   "metadata": {
    "collapsed": true
   },
   "outputs": [],
   "source": [
    "\n",
    "# http://www.realestate.com.au/sold/property-apartment-with-studio-in-kensington%2c+nsw+2033/list-1?maxBeds=any&includeSurrounding=false&source=refinements\n",
    "# http://www.realestate.com.au/sold/property-unit-apartment-unit+apartment-with-studio-in-maroubra%2c+nsw+2035/list-1?maxBeds=any&includeSurrounding=false&misc=ex-no-sale-price&activeSort=list-date&source=refinements\n",
    "\n",
    "# where='penrith'\n",
    "# urlPartOne='http://www.realestate.com.au/sold/property-unit-apartment-unit+apartment-in-melbourne%2c+vic+3000%3b+/list-'\n",
    "# urlPartTwo='?newOrEstablished=established&activeSort=list-date&source=location-search'\n",
    "\n",
    "# where='melbourne'\n",
    "# urlPartOne='http://www.realestate.com.au/sold/property-unit-apartment-unit+apartment-in-melbourne%2c+vic+3000%3b+/list-'\n",
    "# urlPartTwo='?newOrEstablished=established&activeSort=list-date&source=location-search'\n",
    "\n",
    "# where='rhodes'\n",
    "# urlPartOne='http://www.realestate.com.au/sold/property-unit-apartment-unit+apartment-in-rhodes/list-'\n",
    "# urlPartTwo='?newOrEstablished=established&activeSort=list-date&source=location-search'\n",
    "\n",
    "# where='pendleHills'\n",
    "# urlPartOne='http://www.realestate.com.au/sold/property-unit-apartment-unit+apartment-in-pendle+hill/list-'\n",
    "# urlPartTwo='?newOrEstablished=established&activeSort=list-date&source=location-search'\n",
    "\n",
    "# where='castleHill'\n",
    "# urlPartOne='http://www.realestate.com.au/sold/property-unit-apartment-unit+apartment-in-castle+hill%2c+nsw+2154%3b+/list-'\n",
    "# urlPartTwo='?newOrEstablished=established&activeSort=list-date&source=location-search'\n",
    "\n",
    "# where='sydney'\n",
    "# urlPartOne='http://www.realestate.com.au/sold/property-unit-apartment-unit+apartment-in-sydney,+nsw+2000/list-'\n",
    "# urlPartTwo='?activeSort=list-date&newOrEstablished=established'\n",
    "\n",
    "# where='surryHills'\n",
    "# urlPartOne='http://www.realestate.com.au/sold/property-unit-apartment-unit+apartment-with-studio-in-surry+hills%2c+nsw+2010/list-'\n",
    "# urlPartTwo='?maxBeds=any&includeSurrounding=false&misc=ex-no-sale-price&activeSort=list-date&source=refinements'\n",
    "\n",
    "# where='maroubra'\n",
    "# urlPartOne='http://www.realestate.com.au/sold/property-unit-apartment-unit+apartment-with-studio-in-maroubra%2c+nsw+2035/list-'\n",
    "# urlPartTwo='?maxBeds=any&includeSurrounding=false&misc=ex-no-sale-price&activeSort=list-date&source=refinements'\n",
    "\n",
    "# where='kensington'\n",
    "# urlPartOne='http://www.realestate.com.au/sold/property-apartment-with-studio-in-kensington%2c+nsw+2033/list-'\n",
    "# urlPartTwo='?maxBeds=any&includeSurrounding=false&source=refinements'\n",
    "\n",
    "# where='laneCove'\n",
    "# urlPartOne='http://www.realestate.com.au/sold/property-apartment-in-lane+cove%2c+nsw+2066/list-'\n",
    "# urlPartTwo='?source=location-search'\n",
    "\n",
    "# where='laneCoveNorth'\n",
    "# urlPartOne='http://www.realestate.com.au/sold/property-apartment-in-lane+cove+north%2c+nsw+2066%3b+/list-'\n",
    "# urlPartTwo='?source=location-search'\n"
   ]
  },
  {
   "cell_type": "code",
   "execution_count": null,
   "metadata": {
    "collapsed": true
   },
   "outputs": [],
   "source": [
    "\n",
    "print(\"Starting Price\\n\")\n",
    "text_file = open(where+\"Price.txt\", \"w\")\n",
    "# obs=1\n",
    "for x in range(0,75):\n",
    "\ty=str(x)\n",
    "\tsoup = BeautifulSoup(urllib2.urlopen(urlPartOne+y+urlPartTwo).read())\n",
    "\tfor price in soup.find_all('p',\"price\"):\n",
    "# \t\tobs_text = str(obs)\n",
    "\t\tprint \"x=%s\" %y\n",
    "\t\ttext_file.write(price.get_text()+\"\\n\")\n",
    "\t\t# print(price.get_text())\n",
    "\t\t# print(\"#\"+obs_text+\" \"+price.get_text())\n",
    "# \t\tobs=obs+1\n",
    "text_file.close()\n",
    "\n",
    "print(\"Starting soldDate\\n\")\n",
    "text_file = open(where+\"soldDate.txt\", \"w\")\n",
    "# obs=1\n",
    "for x in range(0,75):\n",
    "\ty=str(x)\n",
    "\tsoup = BeautifulSoup(urllib2.urlopen(urlPartOne+y+urlPartTwo).read())\n",
    "\tfor soldDate in soup.find_all('p','soldDate'):\n",
    "# \t\tobs_text = str(obs)\n",
    "\t\tprint \"x=%s\" %y\n",
    "\t\tsoldText = soldDate.get_text()\n",
    "\t\ttext_file.write(soldText[9:]+\"\\n\")\n",
    "\t\t# print(soldDate.get_text())\n",
    "# \t\tprint(\"#\"+obs_text+\" \"+soldDate.get_text())\n",
    "# \t\tobs=obs+1\n",
    "text_file.close()\n",
    "\n",
    "print(\"Starting location\\n\")\n",
    "text_file = open(where+\"location.txt\", \"w\")\n",
    "# obs=1\t\n",
    "for x in range(0,75):\n",
    "\ty=str(x)\n",
    "\tsoup = BeautifulSoup(urllib2.urlopen(urlPartOne+y+urlPartTwo).read())\n",
    "\tfor location in soup.find_all('a','name'):\n",
    "# \t\tobs_text = str(obs)\n",
    "\t\tprint(\"x=%s\" %y)\n",
    "\t\ttext_file.write(location.get_text()+\"\\n\")\n",
    "\t\t# print(location.get_text())\n",
    "# \t\tprint(\"#\"+obs_text+\" \"+location.get_text())\n",
    "# \t\tobs=obs+1\n",
    "text_file.close()\n",
    "\n",
    "print(\"Starting Bedrooms\\n\")\n",
    "text_file = open(where+\"bedroom.txt\", \"w\")\n",
    "# obs=1\t\n",
    "for x in range(0,75):\n",
    "\ty=str(x)\n",
    "\tsoup = BeautifulSoup(urllib2.urlopen(urlPartOne+y+urlPartTwo).read())\n",
    "\tfor bedroom in soup.find_all('img',alt=\"Bedrooms\"):\n",
    "# \t\tobs_text = str(obs)\n",
    "\t\tprint\"x=%s\" %y\n",
    "\t\ttext_file.write(bedroom.next_sibling.get_text()+\"\\n\")\n",
    "\t\t# print(bedroom.next_sibling.get_text())\n",
    "# \t\tprint(\"#\"+obs_text+\" \"+bedroom.next_sibling.get_text())\n",
    "# \t\tobs=obs+1\n",
    "text_file.close()"
   ]
  },
  {
   "cell_type": "code",
   "execution_count": null,
   "metadata": {
    "collapsed": true
   },
   "outputs": [],
   "source": [
    "\n",
    "from itertools import izip\n",
    "\n",
    "g=open(where+'ALL.txt','w')\n",
    "\n",
    "with open(where+\"Price.txt\",'r') as price, open(where+\"soldDate.txt\",'r') as soldDate, open(where+\"location.txt\",'r') as location, open(where+\"bedroom.txt\",'r') as bedroom: \n",
    "    for x, y, z, t in izip(price,soldDate,location,bedroom):\n",
    "        price = x.strip()\n",
    "        soldDate = y.strip()\n",
    "        location = z.strip()\n",
    "        bedroom = t.strip()\n",
    "        print >> g, \"{0}\\t{1}\\t{2}\\t{3}\".format(price,soldDate,location,bedroom)\n"
   ]
  }
 ],
 "metadata": {
  "kernelspec": {
   "display_name": "Python 2",
   "language": "python",
   "name": "python2"
  },
  "language_info": {
   "codemirror_mode": {
    "name": "ipython",
    "version": 2
   },
   "file_extension": ".py",
   "mimetype": "text/x-python",
   "name": "python",
   "nbconvert_exporter": "python",
   "pygments_lexer": "ipython2",
   "version": "2.7.9"
  }
 },
 "nbformat": 4,
 "nbformat_minor": 0
}
