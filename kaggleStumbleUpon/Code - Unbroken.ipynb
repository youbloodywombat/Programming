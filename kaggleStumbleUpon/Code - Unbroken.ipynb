{
 "cells": [
  {
   "cell_type": "code",
   "execution_count": null,
   "metadata": {
    "collapsed": false
   },
   "outputs": [],
   "source": [
    "# -*- coding: utf-8 -*-\n",
    "import numpy as np\n",
    "from sklearn import metrics,preprocessing,cross_validation\n",
    "from sklearn.feature_extraction.text import TfidfVectorizer\n",
    "import sklearn.linear_model as lm\n",
    "import pandas as p\n",
    "\n",
    "\n",
    "# loadData = lambda f: np.genfromtxt(open(f,'r'), delimiter=' ')\n",
    "\n",
    "\n",
    "print \"loading data..\"\n",
    "# Grabs the titles only\n",
    "traindata = list(np.array(p.read_table('Data/train.tsv'))[:,2])\n",
    "testdata = list(np.array(p.read_table('Data/test.tsv'))[:,2])\n",
    "# traindata[2]\n",
    "y = np.array(p.read_table('Data/train.tsv'))[:,-1]\n",
    "y"
   ]
  },
  {
   "cell_type": "code",
   "execution_count": null,
   "metadata": {
    "collapsed": false
   },
   "outputs": [],
   "source": [
    "tfv = TfidfVectorizer(min_df=3,  max_features=None, strip_accents='unicode',  \n",
    "        analyzer='word',token_pattern=r'\\w{1,}',ngram_range=(1, 2), use_idf=1,smooth_idf=1,sublinear_tf=1)\n",
    "# tfv\n",
    "rd = lm.LogisticRegression(penalty='l2', dual=True, tol=0.0001, \n",
    "                             C=1, fit_intercept=True, intercept_scaling=1.0, \n",
    "                             class_weight=None, random_state=None)\n",
    "\n",
    "X_all = traindata + testdata\n",
    "lentrain = len(traindata)\n"
   ]
  },
  {
   "cell_type": "code",
   "execution_count": null,
   "metadata": {
    "collapsed": false
   },
   "outputs": [],
   "source": [
    "print \"fitting pipeline\"\n",
    "tfv.fit(X_all)\n",
    "print tfw"
   ]
  },
  {
   "cell_type": "code",
   "execution_count": null,
   "metadata": {
    "collapsed": false
   },
   "outputs": [],
   "source": [
    "print \"transforming data\"\n",
    "X_all = tfv.transform(X_all)\n",
    "X_all"
   ]
  },
  {
   "cell_type": "code",
   "execution_count": null,
   "metadata": {
    "collapsed": true
   },
   "outputs": [],
   "source": [
    "X"
   ]
  }
 ],
 "metadata": {
  "kernelspec": {
   "display_name": "Python 2",
   "language": "python",
   "name": "python2"
  },
  "language_info": {
   "codemirror_mode": {
    "name": "ipython",
    "version": 2
   },
   "file_extension": ".py",
   "mimetype": "text/x-python",
   "name": "python",
   "nbconvert_exporter": "python",
   "pygments_lexer": "ipython2",
   "version": "2.7.9"
  }
 },
 "nbformat": 4,
 "nbformat_minor": 0
}
