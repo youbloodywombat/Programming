{
 "cells": [
  {
   "cell_type": "code",
   "execution_count": 3,
   "metadata": {
    "collapsed": false
   },
   "outputs": [
    {
     "name": "stdout",
     "output_type": "stream",
     "text": [
      "loading data..\n",
      "fitting pipeline\n",
      "transforming data\n"
     ]
    }
   ],
   "source": [
    "\"\"\"\n",
    "beating the benchmark @StumbleUpon Evergreen Challenge\n",
    "__author__ : Abhishek Thakur\n",
    "\"\"\"\n",
    "\n",
    "# -*- coding: utf-8 -*-\n",
    "import numpy as np\n",
    "from sklearn import metrics,preprocessing,cross_validation\n",
    "from sklearn.feature_extraction.text import TfidfVectorizer\n",
    "import sklearn.linear_model as lm\n",
    "import pandas as p\n",
    "\n",
    "\n",
    "loadData = lambda f: np.genfromtxt(open(f,'r'), delimiter=' ')\n",
    "\n",
    "\n",
    "print \"loading data..\"\n",
    "traindata = list(np.array(p.read_table('Data/train.tsv'))[:,2])\n",
    "testdata = list(np.array(p.read_table('Data/test.tsv'))[:,2])\n",
    "y = np.array(p.read_table('Data/train.tsv'))[:,-1]\n",
    "\n",
    "tfv = TfidfVectorizer(min_df=3,  max_features=None, strip_accents='unicode',  \n",
    "    analyzer='word',token_pattern=r'\\w{1,}',ngram_range=(1, 2), use_idf=1,smooth_idf=1,sublinear_tf=1)\n",
    "\n",
    "rd = lm.LogisticRegression(penalty='l2', dual=True, tol=0.0001, \n",
    "                         C=1, fit_intercept=True, intercept_scaling=1.0, \n",
    "                         class_weight=None, random_state=None)\n",
    "\n",
    "X_all = traindata + testdata\n",
    "lentrain = len(traindata)\n",
    "\n",
    "print \"fitting pipeline\"\n",
    "tfv.fit(X_all)\n",
    "print \"transforming data\"\n",
    "X_all = tfv.transform(X_all)\n"
   ]
  },
  {
   "cell_type": "code",
   "execution_count": 12,
   "metadata": {
    "collapsed": false
   },
   "outputs": [
    {
     "name": "stdout",
     "output_type": "stream",
     "text": [
      "  (0, 237497)\t0.0533130259254\n",
      "  (0, 237390)\t0.0533130259254\n",
      "  (0, 236771)\t0.017825610077\n",
      "  (0, 235832)\t0.0352466739103\n",
      "  (0, 235826)\t0.0283220350818\n",
      "  (0, 235660)\t0.0366721696303\n",
      "  (0, 235601)\t0.0146953303563\n",
      "  (0, 235343)\t0.0209930345306\n",
      "  (0, 235306)\t0.0390018227094\n",
      "  (0, 235240)\t0.0310163142588\n",
      "  (0, 235237)\t0.031744373751\n",
      "  (0, 235211)\t0.0333960780932\n",
      "  (0, 234645)\t0.0183134833967\n",
      "  (0, 234643)\t0.0183023782989\n",
      "  (0, 234454)\t0.0517972689283\n",
      "  (0, 234453)\t0.0149288641392\n",
      "  (0, 234433)\t0.0217353002614\n",
      "  (0, 234225)\t0.0327940255216\n",
      "  (0, 234111)\t0.019917310698\n",
      "  (0, 234051)\t0.015552860119\n",
      "  (0, 233824)\t0.0235383422041\n",
      "  (0, 233746)\t0.0198932799403\n",
      "  (0, 232949)\t0.0166235393654\n",
      "  (0, 232380)\t0.0366721696303\n",
      "  (0, 231826)\t0.00945261836113\n",
      "  :\t:\n",
      "  (10565, 15121)\t0.0157071920355\n",
      "  (10565, 13975)\t0.0980480156996\n",
      "  (10565, 13744)\t0.0325268923285\n",
      "  (10565, 13720)\t0.0253676536021\n",
      "  (10565, 13558)\t0.0322023555214\n",
      "  (10565, 9842)\t0.0261010262821\n",
      "  (10565, 9760)\t0.0301082039751\n",
      "  (10565, 9631)\t0.0192594547391\n",
      "  (10565, 7287)\t0.0579087375424\n",
      "  (10565, 7285)\t0.0430567553563\n",
      "  (10565, 7282)\t0.0644290534629\n",
      "  (10565, 6948)\t0.0372220971186\n",
      "  (10565, 6812)\t0.0240081453503\n",
      "  (10565, 6281)\t0.0190152028399\n",
      "  (10565, 4708)\t0.0371143814671\n",
      "  (10565, 4704)\t0.0179360276474\n",
      "  (10565, 3472)\t0.0457011355757\n",
      "  (10565, 3272)\t0.0128704913444\n",
      "  (10565, 2476)\t0.025881168022\n",
      "  (10565, 2395)\t0.0189984586867\n",
      "  (10565, 943)\t0.0228369304075\n",
      "  (10565, 908)\t0.0484721575236\n",
      "  (10565, 807)\t0.0372894292902\n",
      "  (10565, 733)\t0.0296286494352\n",
      "  (10565, 374)\t0.027479151246\n"
     ]
    }
   ],
   "source": [
    "print \"20 Fold CV Score: \", np.mean(cross_validation.cross_val_score(rd, X, y, cv=20, scoring='roc_auc'))\n",
    "\n",
    "print \"training on full data\"\n",
    "rd.fit(X,y)\n",
    "pred = rd.predict_proba(X_test)[:,1]\n",
    "testfile = p.read_csv('../data/test.tsv', sep=\"\\t\", na_values=['?'], index_col=1)\n",
    "pred_df = p.DataFrame(pred, index=testfile.index, columns=['label'])\n",
    "pred_df.to_csv('benchmark.csv')\n",
    "print \"submission file created..\"\n"
   ]
  }
 ],
 "metadata": {
  "kernelspec": {
   "display_name": "Python 2",
   "language": "python",
   "name": "python2"
  },
  "language_info": {
   "codemirror_mode": {
    "name": "ipython",
    "version": 2
   },
   "file_extension": ".py",
   "mimetype": "text/x-python",
   "name": "python",
   "nbconvert_exporter": "python",
   "pygments_lexer": "ipython2",
   "version": "2.7.9"
  }
 },
 "nbformat": 4,
 "nbformat_minor": 0
}
